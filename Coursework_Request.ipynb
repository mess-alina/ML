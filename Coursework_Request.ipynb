{
  "nbformat": 4,
  "nbformat_minor": 0,
  "metadata": {
    "colab": {
      "provenance": [],
      "authorship_tag": "ABX9TyMDM3JfV+ghshMaIJ1heVc3",
      "include_colab_link": true
    },
    "kernelspec": {
      "name": "python3",
      "display_name": "Python 3"
    },
    "language_info": {
      "name": "python"
    }
  },
  "cells": [
    {
      "cell_type": "markdown",
      "metadata": {
        "id": "view-in-github",
        "colab_type": "text"
      },
      "source": [
        "<a href=\"https://colab.research.google.com/github/mess-alina/ML/blob/main/Coursework_Request.ipynb\" target=\"_parent\"><img src=\"https://colab.research.google.com/assets/colab-badge.svg\" alt=\"Open In Colab\"/></a>"
      ]
    },
    {
      "cell_type": "markdown",
      "source": [
        "# **Запрос**"
      ],
      "metadata": {
        "id": "0HRRkDT-JNMI"
      }
    },
    {
      "cell_type": "code",
      "source": [
        "import requests\n",
        "\n",
        "import urllib.request\n",
        "import json"
      ],
      "metadata": {
        "id": "kvky4nFoJf7X"
      },
      "execution_count": 1,
      "outputs": []
    },
    {
      "cell_type": "code",
      "source": [
        "data = (\n",
        "    \"Trump needed $225 million. A little-known bank came to the rescue\",\n",
        "    \"SAN DIEGO — As Donald Trump considered another White House run last year, his company’s finances were at risk of spiraling into crisis. The former president’s longtime lender and several banks with his deposits had cut ties in the days around the Jan. 6 attack on the Capitol by his supporters, at a time when Trump had hundreds of millions in loans coming due. In February 2022, the accounting firm that had worked for him for two decades dropped Trump and advised against relying on his “statement of financial condition,” a metric banks use to evaluate the risks of a loan. Unless he found a new lender, Trump’s business empire could have been in jeopardy.\",\n",
        "    \"WP\",\n",
        "    \"Washongton\"\n",
        ")\n"
      ],
      "metadata": {
        "id": "pBHbB8szJ0m2"
      },
      "execution_count": 2,
      "outputs": []
    },
    {
      "cell_type": "code",
      "source": [
        "def send_json(x):\n",
        "    article_title, article_content,\tsource,\tlocation = x\n",
        "    body = {\n",
        "        'article_title': article_title,\n",
        "        'article_content': article_content,\n",
        "        'source': source,\n",
        "        'location': location\n",
        "        }\n",
        "    myurl = 'http://9906-34-32-252-239.ngrok-free.app/' + '/predict'\n",
        "    headers = {'content-type': 'application/json; charset=utf-8'}\n",
        "    response = requests.post(myurl, json=body, headers=headers)\n",
        "    return response.json()['predictions']"
      ],
      "metadata": {
        "id": "esCxT4w9LROV"
      },
      "execution_count": 3,
      "outputs": []
    },
    {
      "cell_type": "code",
      "source": [
        "response = send_json(data)\n",
        "print('предсказание', response)"
      ],
      "metadata": {
        "colab": {
          "base_uri": "https://localhost:8080/"
        },
        "id": "4RBo2xVcMIo2",
        "outputId": "291d0098-1037-471e-b56f-c25a402cff73"
      },
      "execution_count": 4,
      "outputs": [
        {
          "output_type": "stream",
          "name": "stdout",
          "text": [
            "предсказание 0.6121580637074311\n"
          ]
        }
      ]
    }
  ]
}